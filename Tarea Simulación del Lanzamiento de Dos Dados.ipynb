{
  "nbformat": 4,
  "nbformat_minor": 0,
  "metadata": {
    "colab": {
      "provenance": [],
      "authorship_tag": "ABX9TyOReMcd6Nv6+lSCCNIDRHbl",
      "include_colab_link": true
    },
    "kernelspec": {
      "name": "python3",
      "display_name": "Python 3"
    },
    "language_info": {
      "name": "python"
    }
  },
  "cells": [
    {
      "cell_type": "markdown",
      "metadata": {
        "id": "view-in-github",
        "colab_type": "text"
      },
      "source": [
        "<a href=\"https://colab.research.google.com/github/LuisMendoza0/Tareas-TEyMD-M-II/blob/main/Tarea%20Simulaci%C3%B3n%20del%20Lanzamiento%20de%20Dos%20Dados.ipynb\" target=\"_parent\"><img src=\"https://colab.research.google.com/assets/colab-badge.svg\" alt=\"Open In Colab\"/></a>"
      ]
    },
    {
      "cell_type": "markdown",
      "source": [
        "# **Tarea Simulación del Lanzamiento de Dos Dados**\n",
        "\n",
        "1.- Documenta tu colab.\n",
        "\n",
        "2.- Calcula la ley de las siguientes variables aleatorias:\n",
        "\n",
        "1.          - La diferencia de las caras sea mayor que $1$.\n",
        "\n",
        "    - La suma de las caras sea par.\n",
        "\n",
        "3.- Verifica, en cada caso, que $$\\sum_{k\\in R_{X}}\\mathbb{P}(X=x)=1.$$\n",
        "\n",
        "4.- Sube tu notebook a tu GitHub."
      ],
      "metadata": {
        "id": "t9nLvTqvdy6D"
      }
    },
    {
      "cell_type": "markdown",
      "source": [
        "### **La diferencia de las caras sea mayor que 1**\n",
        "\n",
        "\n"
      ],
      "metadata": {
        "id": "8nbv3pcXgBm7"
      }
    },
    {
      "cell_type": "markdown",
      "source": [
        "Antes de comenzar analicemos a nuestra variable aleatoria:\n",
        "  - Sea $X$ la v.a. de la diferencia de las caras de dos dados justos\n",
        "  - Nuestro espacio muestral $\\Omega = \\{1,2,3,4,5,6\\} \\times \\{1,2,3,4,5,6,\\}$\n",
        "  - $\\mathcal{F}=p(\\Omega)$\n",
        "  - De esta forma $\\omega = (i,j)$ donde $i,j=1,\\ldots , 6$\n",
        "$$ \\Rightarrow \\mathbb{P}(\\{\\omega\\})=\\frac{1}{36}$$\n",
        "\n",
        "Así nuestra $X$ podrá tomar los siguientes valores ${0,1,2,3,4,5}$, ya que es la diferencias de las caras.\n",
        "\n",
        "El evento de nuestro interés es:\n",
        "$$\\text{La difrencia de las caras sea mayor que 1} \\rightarrow \\; {X>1}$$\n",
        "Es decir, nuestra variable aleatoria tomará los siguientes valores para este evento:\n",
        "$$X_{\\text{Diferencia Mayor a Uno}}=\\{2,3,4,5,6\\} $$\n"
      ],
      "metadata": {
        "id": "x4fCSFkI5Irw"
      }
    },
    {
      "cell_type": "code",
      "source": [
        "#Importamos las librerías que utilizaremos\n",
        "from itertools import product #para el producto cartesiano\n",
        "from fractions import Fraction #para la estética de fracción en el resultado\n",
        "from collections import defaultdict\n",
        "import pandas as pd #pd para ahorarnos escritura\n",
        "#----------------------------------------------------------------------------------------------------------------------------------------------------------------------\n",
        "#Creamos a Omega y la función de probabilidad\n",
        "def P(A,Omega):\n",
        "  P=Fraction(len(A), len(Omega))\n",
        "  return P\n",
        "#----------------------------------------------------------------------------------------------------------------------------------------------------------------------\n",
        "#Definimos a nuestro conjunto Omega\n",
        "L = [i for i in range(1,7)] #Creamos nuestra lista que nos ayudará a crear a Omega\n",
        "Omega = set(product(L,repeat = 2)) # Y con eso creamos nuestro conjunto omega, hacemos el producto cartesiano\n",
        "          #Lo definimos  como conjunto y que se compone de tuplas del producto cartesiano\n",
        "#----------------------------------------------------------------------------------------------------------------------------------------------------------------------\n",
        "# Creamos nuestro diccionario del evento que queremos analizar\n",
        "XDifCarasMayoraUno = {(i,j): abs(i-j) for i,j in Omega  if abs(i-j)>1 }\n",
        "          #Utilizamos valor absoluto para no resultados negativos, solo nos interesa la diferencia\n",
        "          #Siempre y cuando ésta sea mayor o igual a 2, por ello consieramos que sea mayor que 1 [también podríamos usar >=2, pero se me ocurrió desde unicio como >1]\n",
        "#----------------------------------------------------------------------------------------------------------------------------------------------------------------------\n",
        "#Realizamos el ajuste en nuestro diccionario, usando la librería \"collections\" y su subclase defaultdict\n",
        "\n",
        "dXDifCarasMayoraUno = defaultdict(set)\n",
        "        #Ingresamos elementos a nuestro nuevo diccionario\n",
        "for l,v in XDifCarasMayoraUno.items():\n",
        "  dXDifCarasMayoraUno[v].add(l)  #Colocamos los valores \"v\" y añadimos las llaves \"l\"\n",
        "#----------------------------------------------------------------------------------------------------------------------------------------------------------------------\n",
        "# Convertimos nuestro diccionario nuevo a una Serie utilizando pandas\n",
        "LeyX_DifCarasMayoraUno ={k : P(A,Omega) for k,A in dXDifCarasMayoraUno.items()}\n",
        "                                                  #Diccionario LeyX_DifCarasMayoraUno que consta de k y su probabilidad (del conjunto A dentro de Omega)\n",
        "LeyX_DifCarasMayoraUno=pd.Series(LeyX_DifCarasMayoraUno)\n",
        "    #Realizamos el ajuste por índices para que la presentación resulte mejor\n",
        "LeyX_DifCarasMayoraUno=LeyX_DifCarasMayoraUno.sort_index()\n",
        "#----------------------------------------------------------------------------------------------------------------------------------------------------------------------\n",
        "#Mostramos los resultados finales\n",
        "print(\"X  \",\" P(X=x)\")\n",
        "print(LeyX_DifCarasMayoraUno)\n",
        "print(\"La probabilidad de que la diferencia de las caras sea mayor que 1 es: \", LeyX_DifCarasMayoraUno.sum())\n"
      ],
      "metadata": {
        "colab": {
          "base_uri": "https://localhost:8080/"
        },
        "id": "xE-YKLBd7LXo",
        "outputId": "6e85fd4f-9be7-41fc-91da-ed7dcfd5803e"
      },
      "execution_count": 39,
      "outputs": [
        {
          "output_type": "stream",
          "name": "stdout",
          "text": [
            "X    P(X=x)\n",
            "2     2/9\n",
            "3     1/6\n",
            "4     1/9\n",
            "5    1/18\n",
            "dtype: object\n",
            "La probabilidad de que la diferencia de las caras sea mayor que 1 es:  5/9\n"
          ]
        }
      ]
    },
    {
      "cell_type": "markdown",
      "source": [
        "Verificando que\n",
        "$$\\sum_{k\\in R_{X}}\\mathbb{P}(X=x)=1.$$"
      ],
      "metadata": {
        "id": "ft_pt9989lm3"
      }
    },
    {
      "cell_type": "code",
      "source": [
        "#Misma construcción pero con nuestra variable aleatoria X (sin restricciones)\n",
        "# Creamos nuestro diccionario del evento que queremos analizar\n",
        "X = {(i,j): abs(i-j) for i,j in Omega}\n",
        "          #Utilizamos valor absoluto para no resultados negativos, solo nos interesa la diferencia\n",
        "#----------------------------------------------------------------------------------------------------------------------------------------------------------------------\n",
        "#Realizamos el ajuste en nuestro diccionario, usando la librería \"collections\" y su subclase defaultdict\n",
        "\n",
        "dX = defaultdict(set)\n",
        "        #Ingresamos elementos a nuestro nuevo diccionario\n",
        "for l,v in X.items():\n",
        "  dX[v].add(l)  #Colocamos los valores \"v\" y añadimos las llaves \"l\"\n",
        "#----------------------------------------------------------------------------------------------------------------------------------------------------------------------\n",
        "# Convertimos nuestro diccionario nuevo a una Serie utilizando pandas\n",
        "LeyX ={k : P(A,Omega) for k,A in dX.items()}\n",
        "                                                  #Diccionario LeyX que consta de k y su probabilidad (del conjunto A dentro de Omega)\n",
        "LeyX=pd.Series(LeyX)\n",
        "    #Realizamos el ajuste por índices para que la presentación resulte mejor\n",
        "LeyX=LeyX.sort_index()\n",
        "#----------------------------------------------------------------------------------------------------------------------------------------------------------------------\n",
        "print(\"X  \",\" P(X=x)\")\n",
        "print(LeyX)\n",
        "print(\"Suma las P(X=x) =\", LeyX.sum())"
      ],
      "metadata": {
        "colab": {
          "base_uri": "https://localhost:8080/"
        },
        "id": "JSty9ChM89uv",
        "outputId": "5aa1a620-3e3d-4f45-9f70-7caeff1db922"
      },
      "execution_count": null,
      "outputs": [
        {
          "output_type": "stream",
          "name": "stdout",
          "text": [
            "X    P(X=x)\n",
            "0     1/6\n",
            "1    5/18\n",
            "2     2/9\n",
            "3     1/6\n",
            "4     1/9\n",
            "5    1/18\n",
            "dtype: object\n",
            "Suma las P(X=x) = 1\n"
          ]
        }
      ]
    },
    {
      "cell_type": "markdown",
      "source": [
        "### **La suma de las caras sea par**\n",
        "\n"
      ],
      "metadata": {
        "id": "YmTghv0Oq4Ou"
      }
    },
    {
      "cell_type": "markdown",
      "source": [
        "Antes de comenzar analicemos a nuestra variable aleatoria:\n",
        "  - Sea $Y$ la v.a. de la suma de las caras de dos dados justos\n",
        "  - Nuestro espacio muestral $\\Omega = \\{1,2,3,4,5,6\\} \\times \\{1,2,3,4,5,6,\\}$\n",
        "  - $\\mathcal{F}=p(\\Omega)$\n",
        "  - De esta forma $\\omega = (i,j)$ donde $i,j=1,\\ldots , 6$\n",
        "$$ \\Rightarrow \\mathbb{P}(\\{\\omega\\})=\\frac{1}{36}$$\n",
        "\n",
        "Así nuestra $Y$ podrá tomar los siguientes valores ${2,4,5,6,7,8,9,10,11,12}$, ya que es la suma de las caras.\n",
        "\n",
        "El evento de nuestro interés es:\n",
        "$$\\text{La suma de las caras es par}$$\n",
        "Es decir, nuestra variable aleatoria tomará los siguientes valores para este evento:\n",
        "$$Y_{\\text{Suma Caras es Par}}=\\{2,4,6,8,10,12\\} $$\n"
      ],
      "metadata": {
        "id": "edd0E0vZq4Ow"
      }
    },
    {
      "cell_type": "code",
      "source": [
        "#Importamos las librerías que utilizaremos\n",
        "from itertools import product #para el producto cartesiano\n",
        "from fractions import Fraction #para la estética de fracción en el resultado\n",
        "from collections import defaultdict\n",
        "import pandas as pd #pd para ahorarnos escritura\n",
        "#----------------------------------------------------------------------------------------------------------------------------------------------------------------------\n",
        "#Creamos a Omega y la función de probabilidad\n",
        "def P(A,Omega):\n",
        "  P=Fraction(len(A), len(Omega))\n",
        "  return P\n",
        "#----------------------------------------------------------------------------------------------------------------------------------------------------------------------\n",
        "#Definimos a nuestro conjunto Omega\n",
        "L = [i for i in range(1,7)] #Creamos nuestra lista que nos ayudará a crear a Omega\n",
        "Omega = set(product(L,repeat = 2)) # Y con eso creamos nuestro conjunto omega, hacemos el producto cartesiano\n",
        "          #Lo definimos  como conjunto y que se compone de tuplas del producto cartesiano\n",
        "#----------------------------------------------------------------------------------------------------------------------------------------------------------------------\n",
        "# Creamos nuestro diccionario del evento que queremos analizar\n",
        "YSumCarasPar = {(i,j): i+j for i,j in Omega if (i+j)%2==0}\n",
        "          # Utilizamos la suma (como el ejercicio visto en clase) pero con la condición de que sea par, esto se logra utilizando modulo -> % cuando sea igual 0\n",
        "          #ya que si establecemos que la suma i+j%2==0 tendremos que en efecto es divisible entre 2 y por tanto, es un múltiplo de dos, es decir, la suma es par.\n",
        "#----------------------------------------------------------------------------------------------------------------------------------------------------------------------\n",
        "#Realizamos el ajuste en nuestro diccionario, usando la librería \"collections\" y su subclase defaultdict\n",
        "\n",
        "dYSumCarasPar = defaultdict(set)\n",
        "        #Ingresamos elementos a nuestro nuevo diccionario\n",
        "for l,v in YSumCarasPar.items():\n",
        "  dYSumCarasPar[v].add(l)  #Colocamos los valores \"v\" y añadimos las llaves \"l\"\n",
        "#----------------------------------------------------------------------------------------------------------------------------------------------------------------------\n",
        "# Convertimos nuestro diccionario nuevo a una Serie utilizando pandas\n",
        "LeyY_SumCarasPar ={k : P(A,Omega) for k,A in dYSumCarasPar.items()}\n",
        "                                                  #Diccionario LeyY_SumCarasPar que consta de k y su probabilidad (del conjunto A dentro de Omega)\n",
        "LeyY_SumCarasPar=pd.Series(LeyY_SumCarasPar)\n",
        "    #Realizamos el ajuste por índices para que la presentación resulte mejor\n",
        "LeyY_SumCarasPar=LeyY_SumCarasPar.sort_index()\n",
        "#----------------------------------------------------------------------------------------------------------------------------------------------------------------------\n",
        "#Mostramos los resultados finales\n",
        "print(\"Y \",\"  P(Y=y)\")\n",
        "print(LeyY_SumCarasPar)\n",
        "print(\"La probabilidad de que la suma de las caras sea par es: \", LeyY_SumCarasPar.sum())\n"
      ],
      "metadata": {
        "colab": {
          "base_uri": "https://localhost:8080/"
        },
        "outputId": "e8a325f3-b258-463c-b330-ac641e91d2c2",
        "id": "8wR71h9vq4Ox"
      },
      "execution_count": null,
      "outputs": [
        {
          "output_type": "stream",
          "name": "stdout",
          "text": [
            "Y    P(Y=y)\n",
            "2     1/36\n",
            "4     1/12\n",
            "6     5/36\n",
            "8     5/36\n",
            "10    1/12\n",
            "12    1/36\n",
            "dtype: object\n",
            "La probabilidad de que la suma de las caras sea par es:  1/2\n"
          ]
        }
      ]
    },
    {
      "cell_type": "markdown",
      "source": [
        "Verificando que\n",
        "$$\\sum_{k\\in R_{Y}}\\mathbb{P}(Y=y)=1.$$"
      ],
      "metadata": {
        "id": "m6znEljNq4Oz"
      }
    },
    {
      "cell_type": "code",
      "source": [
        "#Misma construcción pero con nuestra variable aleatoria Y (sin restricciones)\n",
        "# Creamos nuestro diccionario del evento que queremos analizar\n",
        "Y = {(i,j): i+j for i,j in Omega}\n",
        "          # Utilizamos la suma (como el ejercicio visto en clase)\n",
        "#----------------------------------------------------------------------------------------------------------------------------------------------------------------------\n",
        "#Realizamos el ajuste en nuestro diccionario, usando la librería \"collections\" y su subclase defaultdict\n",
        "\n",
        "dY = defaultdict(set)\n",
        "        #Ingresamos elementos a nuestro nuevo diccionario\n",
        "for l,v in Y.items():\n",
        "  dY[v].add(l)  #Colocamos los valores \"v\" y añadimos las llaves \"l\"\n",
        "#----------------------------------------------------------------------------------------------------------------------------------------------------------------------\n",
        "# Convertimos nuestro diccionario nuevo a una Serie utilizando pandas\n",
        "LeyY ={k : P(A,Omega) for k,A in dY.items()}\n",
        "                                                  #Diccionario LeyY que consta de k y su probabilidad (del conjunto A dentro de Omega)\n",
        "LeyY=pd.Series(LeyY)\n",
        "    #Realizamos el ajuste por índices para que la presentación resulte mejor\n",
        "LeyY=LeyY.sort_index()\n",
        "#----------------------------------------------------------------------------------------------------------------------------------------------------------------------\n",
        "print(\"Y \",\"  P(Y=y)\")\n",
        "print(LeyY)\n",
        "print(\"Suma las P(Y=y) =\", LeyY.sum())"
      ],
      "metadata": {
        "colab": {
          "base_uri": "https://localhost:8080/"
        },
        "outputId": "172ec68a-2ce6-4588-98bc-cfae447802d9",
        "id": "CuYnEplOq4Oz"
      },
      "execution_count": null,
      "outputs": [
        {
          "output_type": "stream",
          "name": "stdout",
          "text": [
            "Y    P(Y=y)\n",
            "2     1/36\n",
            "3     1/18\n",
            "4     1/12\n",
            "5      1/9\n",
            "6     5/36\n",
            "7      1/6\n",
            "8     5/36\n",
            "9      1/9\n",
            "10    1/12\n",
            "11    1/18\n",
            "12    1/36\n",
            "dtype: object\n",
            "Suma las P(Y=y) = 1\n"
          ]
        }
      ]
    }
  ]
}