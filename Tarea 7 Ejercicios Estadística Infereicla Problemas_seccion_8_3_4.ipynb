{
  "nbformat": 4,
  "nbformat_minor": 0,
  "metadata": {
    "colab": {
      "provenance": [],
      "toc_visible": true
    },
    "kernelspec": {
      "name": "python3",
      "display_name": "Python 3"
    },
    "language_info": {
      "name": "python"
    }
  },
  "cells": [
    {
      "cell_type": "markdown",
      "source": [
        "## **Equipo 7**\n",
        "\n",
        "**Integrantes:**\n",
        "\n",
        "- Camacho Herrera Jesús Salvador\n",
        "\n",
        "- Flores Solis Eduardo Elías\n",
        "\n",
        "- Garcia Robles Viviana\n",
        "\n",
        "- Mendoza López Luis Ángel"
      ],
      "metadata": {
        "id": "wnuOv-kygO2y"
      }
    },
    {
      "cell_type": "markdown",
      "source": [
        "## **Dependencias**"
      ],
      "metadata": {
        "id": "F3yiClZiwR6P"
      }
    },
    {
      "cell_type": "code",
      "execution_count": 1,
      "metadata": {
        "id": "Y4xkWcLlwJHR"
      },
      "outputs": [],
      "source": [
        "import numpy as np\n",
        "import scipy.stats as stats"
      ]
    },
    {
      "cell_type": "markdown",
      "source": [
        "## **Problemas**"
      ],
      "metadata": {
        "id": "sVUnWYv8wUxl"
      }
    },
    {
      "cell_type": "markdown",
      "source": [
        "### **Problema 2**"
      ],
      "metadata": {
        "id": "S4Ft1DDZwZes"
      }
    },
    {
      "cell_type": "markdown",
      "source": [
        "Una muestra aleatoria $X_{1}, \\ldots, X_{100}$ se da a partir de una distribución con varianza conocida $\\mbox{Var}(X_{i})=16$. Para la muestra observada, la media muestral es $\\overline{X}=23.5$. Encuentre un intervalo de confianza aproximado del 95% para $\\theta = \\mathbb{E}[X_{i}]$."
      ],
      "metadata": {
        "id": "A06laVu3w7Ho"
      }
    },
    {
      "cell_type": "markdown",
      "source": [
        "#### **Solución**"
      ],
      "metadata": {
        "id": "9Hh3Yjg5NP18"
      }
    },
    {
      "cell_type": "markdown",
      "source": [
        "Por lo visto en clase, aquí el intervalo de confianza del $(1−α)100\\%$ es\n",
        "\n",
        "$$IC_{\\alpha} = \\left[\\overline{X}_{n} - z_{\\frac{\\alpha}{2}}\\frac{\\sigma}{\\sqrt{n}}, \\overline{X}_{n} + z_{\\frac{\\alpha}{2}}\\frac{\\sigma}{\\sqrt{n}}\\right]$$\n",
        "\n",
        "Veamos el cálculo con python:"
      ],
      "metadata": {
        "id": "FvvNICSUNbk8"
      }
    },
    {
      "cell_type": "code",
      "source": [
        "# Calculando z_alpha\n",
        "alpha = 1 - 0.95\n",
        "z_alpha = stats.norm.ppf(1-alpha/2)\n",
        "z_alpha"
      ],
      "metadata": {
        "colab": {
          "base_uri": "https://localhost:8080/"
        },
        "id": "YoampbQVMt4v",
        "outputId": "1309e04a-3a44-4b19-ba69-ae7f49af576e"
      },
      "execution_count": 2,
      "outputs": [
        {
          "output_type": "execute_result",
          "data": {
            "text/plain": [
              "1.959963984540054"
            ]
          },
          "metadata": {},
          "execution_count": 2
        }
      ]
    },
    {
      "cell_type": "markdown",
      "source": [
        "Así que\n",
        "\n",
        "$$ z_{\\frac{\\alpha}{2}} = \\Phi^{-1}_{N(0,1)}\\left(\\frac{\\alpha}{2}\\right) ≈ 1.96$$"
      ],
      "metadata": {
        "id": "IGrIufwTTMdK"
      }
    },
    {
      "cell_type": "code",
      "source": [
        "# Obteniendo los extremos del intervalo\n",
        "IC = (23.5 - z_alpha * 4/np.sqrt(100), 23.5 + z_alpha * 4/np.sqrt(100))\n",
        "IC"
      ],
      "metadata": {
        "colab": {
          "base_uri": "https://localhost:8080/"
        },
        "id": "NCtyNaw9Qz0n",
        "outputId": "1f5ec797-d2ca-452d-a0d9-ff0a93d0b9d0"
      },
      "execution_count": 3,
      "outputs": [
        {
          "output_type": "execute_result",
          "data": {
            "text/plain": [
              "(22.71601440618398, 24.28398559381602)"
            ]
          },
          "metadata": {},
          "execution_count": 3
        }
      ]
    },
    {
      "cell_type": "markdown",
      "source": [
        "Por lo tanto, el intervalo de confianza del $95\\%$ es\n",
        "\n",
        "$$IC_{\\alpha} ≈ [22.71, 24.28]$$"
      ],
      "metadata": {
        "id": "oJecQNRkSzDd"
      }
    },
    {
      "cell_type": "markdown",
      "source": [
        "### **Problema 3**"
      ],
      "metadata": {
        "id": "Ss7H9aj5wd4p"
      }
    },
    {
      "cell_type": "markdown",
      "source": [
        "Para estimar la proporción de votantes que planean votar por el Candidato A en una elección, se elige una muestra aleatoria de tamaño $n$ de los votantes. El muestreo se realiza con reemplazo. Sea $\\theta$ la proporción de votantes que planean votar por el Candidato A entre todos los votantes. ¿Qué tan grande debe ser $n$ para que podamos obtener un intervalo de confianza del $90%$ con un margen de error del $3\\%$? Es decir, ¿qué tan grande debe ser $n$ para que\n",
        "\n",
        "$$\\mathbb{P}\\left(\\overline{X}-0.03 \\leq \\theta \\leq \\overline{X}+0.03\\right) \\geq 0.90,$$\n",
        "\n",
        "donde $\\overline{X}$ es la proporción de personas en nuestra muestra aleatoria que dicen que planean votar por el Candidato A."
      ],
      "metadata": {
        "id": "pI-DggUIy1WT"
      }
    },
    {
      "cell_type": "markdown",
      "source": [
        "#### **Solución**\n",
        "\n",
        "En este caso el intervalo del $(1-\\alpha)100\\%$ de confianza está dado como\n",
        "\n",
        "$$IC_{\\alpha} = \\left[\\overline{X}_{n} - \\frac{z_{\\frac{\\alpha}{2}}}{2\\sqrt{n}}, \\overline{X}_{n} + \\frac{z_{\\frac{\\alpha}{2}}}{2\\sqrt{n}}\\right]$$\n",
        "\n",
        "Veamos el cálculo con python:"
      ],
      "metadata": {
        "id": "Def1subQVDQF"
      }
    },
    {
      "cell_type": "code",
      "source": [
        "alpha = 1 - 0.90\n",
        "z_alpha = stats.norm.ppf(1-alpha/2)\n",
        "z_alpha"
      ],
      "metadata": {
        "colab": {
          "base_uri": "https://localhost:8080/"
        },
        "id": "gWK_QVsRVvMv",
        "outputId": "04f28c08-5a6b-45a9-fab5-4d0f208ab395"
      },
      "execution_count": 4,
      "outputs": [
        {
          "output_type": "execute_result",
          "data": {
            "text/plain": [
              "1.6448536269514722"
            ]
          },
          "metadata": {},
          "execution_count": 4
        }
      ]
    },
    {
      "cell_type": "code",
      "source": [
        "# Y queremos un margen de error del 3%\n",
        "error = 0.03\n",
        "n = (z_alpha/(error*2))**2\n",
        "n"
      ],
      "metadata": {
        "colab": {
          "base_uri": "https://localhost:8080/"
        },
        "id": "1ZXf01IxVyrk",
        "outputId": "f5694da5-b43c-4853-c5ae-0bca28f64b23"
      },
      "execution_count": 5,
      "outputs": [
        {
          "output_type": "execute_result",
          "data": {
            "text/plain": [
              "751.5398483598369"
            ]
          },
          "metadata": {},
          "execution_count": 5
        }
      ]
    },
    {
      "cell_type": "markdown",
      "source": [
        "Así que $n \\geq 752$ es suficiente."
      ],
      "metadata": {
        "id": "VVK7y8UOWcJV"
      }
    },
    {
      "cell_type": "markdown",
      "source": [
        "### **Problema 4**"
      ],
      "metadata": {
        "id": "dWwfjoXxwgQN"
      }
    },
    {
      "cell_type": "markdown",
      "source": [
        "**a)** Sea $X$ una variable aleatoria tal que $R_{X} \\subset [a, b]$, es decir, tenemos que $a \\leq X \\leq b$. Mostrar que\n",
        "\n",
        "$$ \\mbox{Var}(X) \\leq \\frac{(b-a)^{2}}{4} $$\n",
        "\n",
        "**b)** Sea $X_{1}, \\ldots, X_{n}$ una muestra aleatoria de una distribución desconocida con función de distribución acumulada $F_{X}(x)$ tal que $R_{X} \\subset [a, b]$. Específicamente, $\\mathbb{E}(X)$ y $\\mbox{Var}(X)$ son desconocidas. Encuentre un intervalo de confianza de $(1-\\alpha)100\\%$ para $\\theta = \\mathbb{E}(X)$. Supongamos que $n$ es grande."
      ],
      "metadata": {
        "id": "oi2bsJ9Bz3AC"
      }
    },
    {
      "cell_type": "markdown",
      "source": [
        "#### **Solución**"
      ],
      "metadata": {
        "id": "_u6oTmGeXIbS"
      }
    },
    {
      "cell_type": "markdown",
      "source": [
        "**a)** Definamos a la siguiente v.a.\n",
        "$$ Y = X - \\frac{a+b}{2} $$\n",
        "\n",
        "Por tanto\n",
        "\n",
        "$$-\\frac{b-a}{2}=a -  \\frac{a+b}{2} \\leq Y \\leq b - \\frac{a+b}{2}=\\frac{b-a}{2}$$\n",
        "\n",
        "Es decir, $R_{Y} ⊂ \\left[-\\frac{b-a}{2}, \\frac{b-a}{2}\\right]$.\n",
        "\n",
        "Así tenemos que\n",
        "\n",
        "\\begin{align}\n",
        "\\mbox{Var}(X) &= \\mbox{Var}(Y) \\\\\n",
        " &= \\mathbb{E}(Y^{2}) -  (\\mathbb{E}(Y))^{2}\\\\\n",
        " &\\leq \\mathbb{E}(Y^{2}) \\\\\n",
        " &\\leq \\left(\\frac{b-a}{2}\\right)^{2} \\\\\n",
        " &= \\frac{(b-a)^{2}}{4}\n",
        "\\end{align}\n",
        "\n",
        "La primer igualdad se sigue por propiedades de la varianza, y la segunda desigualdad es por propiedades de la esperanza. $\\quad \\blacksquare$"
      ],
      "metadata": {
        "id": "WUPRIjZaXKvE"
      }
    },
    {
      "cell_type": "markdown",
      "source": [
        "**b)** Por el inciso anterior tenemos una cota superior para $\\sigma$, que es $\\sigma_{max} = \\frac{b-a}{2}$ (pues para $\\mbox{Var}(X)=\\sigma^{2}$ es $\\frac{(b-a)^{2}}{4}$).\n",
        "\n",
        "Por lo tanto, el intervalo del $(1-\\alpha)100\\%$ de confianza está dado como\n",
        "\n",
        "\n",
        "$$IC_{\\alpha} = \\left[\\overline{X}_{n} - z_{\\frac{\\alpha}{2}}\\frac{\\sigma_{max}}{\\sqrt{n}}, \\overline{X}_{n} + z_{\\frac{\\alpha}{2}}\\frac{\\sigma_{max}}{\\sqrt{n}}\\right] = \\left[\\overline{X}_{n} - z_{\\frac{\\alpha}{2}}\\frac{b-a}{2\\sqrt{n}}, \\overline{X}_{n} + z_{\\frac{\\alpha}{2}}\\frac{b-a}{2\\sqrt{n}}\\right].$$"
      ],
      "metadata": {
        "id": "sJvF10ojaAfA"
      }
    },
    {
      "cell_type": "markdown",
      "source": [
        "### **Problema 5**"
      ],
      "metadata": {
        "id": "4qf7nl13wiy5"
      }
    },
    {
      "cell_type": "markdown",
      "source": [
        "Se toma una muestra aleatoria $X_{1}, \\ldots, X_{144}$ de una distribución con varianza desconocida $\\mbox{Var}(X)=\\sigma^{2}$. Para la muestra observada, la media muestral es $\\overline{X} = 55.2$, y la varianza de la muestra es $S^{2} = 34.5$. Encontrar un intervalo de confianza del $99\\%$ para $\\theta = \\mathbb{E}(X_{i})$."
      ],
      "metadata": {
        "id": "Uin6jEMu1kho"
      }
    },
    {
      "cell_type": "markdown",
      "source": [
        "#### **Solución**\n",
        "\n",
        "Como la varianza es desconocida en este caso el intervalo es\n",
        "\n",
        "$$IC_{\\alpha} = \\left[\\overline{X}_{n} - z_{\\frac{\\alpha}{2}}\\frac{S}{\\sqrt{n}}, \\overline{X}_{n} + z_{\\frac{\\alpha}{2}}\\frac{S}{\\sqrt{n}}\\right]$$\n",
        "\n",
        "Hagamos los cálculos con python:"
      ],
      "metadata": {
        "id": "3cdqZE5hb0Wp"
      }
    },
    {
      "cell_type": "code",
      "source": [
        "# Calcumos z\n",
        "alpha = 1 - 0.99\n",
        "z_alpha = stats.norm.ppf(1-alpha/2)\n",
        "z_alpha"
      ],
      "metadata": {
        "colab": {
          "base_uri": "https://localhost:8080/"
        },
        "id": "jUEfARnfcYbJ",
        "outputId": "ccd678cb-1156-4a9f-ea2b-feeb20092cdd"
      },
      "execution_count": 6,
      "outputs": [
        {
          "output_type": "execute_result",
          "data": {
            "text/plain": [
              "2.5758293035489004"
            ]
          },
          "metadata": {},
          "execution_count": 6
        }
      ]
    },
    {
      "cell_type": "code",
      "source": [
        "# Obtenemos los límites del intervalo\n",
        "IC = (55.2 - z_alpha * np.sqrt(34.5)/np.sqrt(144), 55.2 + z_alpha * np.sqrt(34.5)/np.sqrt(144))\n",
        "IC"
      ],
      "metadata": {
        "colab": {
          "base_uri": "https://localhost:8080/"
        },
        "id": "h-eAQfOtcceE",
        "outputId": "21b913fc-9a6e-4666-b292-a254e8445ab1"
      },
      "execution_count": 7,
      "outputs": [
        {
          "output_type": "execute_result",
          "data": {
            "text/plain": [
              "(53.939202377859694, 56.46079762214031)"
            ]
          },
          "metadata": {},
          "execution_count": 7
        }
      ]
    },
    {
      "cell_type": "markdown",
      "source": [
        "Por lo tanto, el intervalo de confianza del $99\\%$ es\n",
        "\n",
        "$$IC_{\\alpha} ≈ [53.93, 56.46]$$"
      ],
      "metadata": {
        "id": "0k8BM82gc2OV"
      }
    },
    {
      "cell_type": "markdown",
      "source": [
        "### **Problema 6**"
      ],
      "metadata": {
        "id": "FfvaKxn8wkJT"
      }
    },
    {
      "cell_type": "markdown",
      "source": [
        "Una muestra aleatoria $X_{1}, \\ldots, X_{16}$ de una distribución normal con media desconocida $\\mu = \\mathbb{E}(X_{i})$, y varianza desconocida $\\mbox{Var}(X_{i})=\\sigma^{2}$. Para la muestra observada, la media muestral es $\\overline{X} = 16.7$, y la varianza de la muestra es $S^{2} = 7.5$.\n",
        "\n",
        "a) Encontrar un intervalo de confianza del $95\\%$ para $\\mu$.\n",
        "\n",
        "b) Encontrar un intervalo de confianza del $95\\%$ para $\\sigma^{2}$."
      ],
      "metadata": {
        "id": "I-3lOkvkLtNt"
      }
    },
    {
      "cell_type": "markdown",
      "source": [
        "#### **Solución**"
      ],
      "metadata": {
        "id": "pjmY1RSXdLUV"
      }
    },
    {
      "cell_type": "markdown",
      "source": [
        "**a)**"
      ],
      "metadata": {
        "id": "27tPZNCMeBXp"
      }
    },
    {
      "cell_type": "markdown",
      "source": [
        "Como la media y varianza son desconocidas, el intervalo para $\\mu$ está dado de la siguiente forma\n",
        "\n",
        "$$IC_{\\alpha} = \\left[\\overline{X}_{n} - t_{\\frac{\\alpha}{2}, n-1}\\frac{S}{\\sqrt{n}}, \\overline{X}_{n} + t_{\\frac{\\alpha}{2}, n-1}\\frac{S}{\\sqrt{n}}\\right]$$\n",
        "\n",
        "Veamos los cálculos:"
      ],
      "metadata": {
        "id": "jiNpQ4P2dOUF"
      }
    },
    {
      "cell_type": "code",
      "source": [
        "# Calculando t\n",
        "alpha = 1 - 0.95\n",
        "t_alpha = stats.t.ppf(1-alpha/2, 15)\n",
        "t_alpha"
      ],
      "metadata": {
        "colab": {
          "base_uri": "https://localhost:8080/"
        },
        "id": "5TWZOz8cdvKX",
        "outputId": "048826bb-7cb6-4170-e589-a00a352010a6"
      },
      "execution_count": 8,
      "outputs": [
        {
          "output_type": "execute_result",
          "data": {
            "text/plain": [
              "2.131449545559323"
            ]
          },
          "metadata": {},
          "execution_count": 8
        }
      ]
    },
    {
      "cell_type": "code",
      "source": [
        "# Obteniendo el intervalo de confianza\n",
        "IC = (16.7 - t_alpha * np.sqrt(7.5)/np.sqrt(16), 16.7 + t_alpha * np.sqrt(7.5)/np.sqrt(16))\n",
        "IC"
      ],
      "metadata": {
        "colab": {
          "base_uri": "https://localhost:8080/"
        },
        "id": "VgtOAaU7d2sR",
        "outputId": "60a247db-795f-4f3f-d0bd-b7bbbc456c17"
      },
      "execution_count": 9,
      "outputs": [
        {
          "output_type": "execute_result",
          "data": {
            "text/plain": [
              "(15.240696254641279, 18.15930374535872)"
            ]
          },
          "metadata": {},
          "execution_count": 9
        }
      ]
    },
    {
      "cell_type": "markdown",
      "source": [
        "Por lo tanto, el intervalo de confianza del $95\\%$ para $\\mu$ es\n",
        "\n",
        "$$IC_{\\alpha} ≈ [15.24, 18.15]$$"
      ],
      "metadata": {
        "id": "KrgMya5EeDKk"
      }
    },
    {
      "cell_type": "markdown",
      "source": [
        "**b)**"
      ],
      "metadata": {
        "id": "GDJJ9gn5eJDo"
      }
    },
    {
      "cell_type": "markdown",
      "source": [
        "Como la media y varianza son desconocidas, el intervalo para $\\mu$ está dado de la siguiente forma\n",
        "\n",
        "$$IC_{\\alpha} = \\left[\\frac{(n-1)S^{2}}{χ^{2}_{\\frac{\\alpha}{2},n-1}}, \\frac{(n-1)S^{2}}{χ^{2}_{1-\\frac{\\alpha}{2},n-1}} \\right]$$\n",
        "\n",
        "Veamos los cálculos:"
      ],
      "metadata": {
        "id": "BBngftIUeKxU"
      }
    },
    {
      "cell_type": "code",
      "source": [
        "# Calculemos chi_alpha\n",
        "alpha = 1 - 0.95\n",
        "chi_alpha_1 = stats.chi2.ppf(1-alpha/2, 15)\n",
        "chi_alpha_2 = stats.chi2.ppf(alpha/2, 15)\n",
        "chi_alpha_1, chi_alpha_2"
      ],
      "metadata": {
        "colab": {
          "base_uri": "https://localhost:8080/"
        },
        "id": "I5pwug95fEkk",
        "outputId": "7287922a-f79d-4577-df9f-52fee11b76fd"
      },
      "execution_count": 10,
      "outputs": [
        {
          "output_type": "execute_result",
          "data": {
            "text/plain": [
              "(27.488392863442975, 6.262137795043253)"
            ]
          },
          "metadata": {},
          "execution_count": 10
        }
      ]
    },
    {
      "cell_type": "code",
      "source": [
        "# Por último obtenemos el intervalo de confianza\n",
        "IC = (15*7.5/chi_alpha_1, 15*7.5/chi_alpha_2)\n",
        "IC"
      ],
      "metadata": {
        "colab": {
          "base_uri": "https://localhost:8080/"
        },
        "id": "zV1uHvX7fmHy",
        "outputId": "f0206a35-1321-4b2b-9cf1-225dc0349666"
      },
      "execution_count": 11,
      "outputs": [
        {
          "output_type": "execute_result",
          "data": {
            "text/plain": [
              "(4.092636501481853, 17.965110906541934)"
            ]
          },
          "metadata": {},
          "execution_count": 11
        }
      ]
    },
    {
      "cell_type": "markdown",
      "source": [
        "Por lo tanto, el intervalo de confianza del $95\\%$ para $\\sigma^{2}$ es\n",
        "\n",
        "$$IC_{\\alpha} ≈ [4.09, 17.96]$$"
      ],
      "metadata": {
        "id": "nAMMNQEQfz2r"
      }
    }
  ]
}