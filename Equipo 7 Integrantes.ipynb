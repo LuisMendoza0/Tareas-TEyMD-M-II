{
  "nbformat": 4,
  "nbformat_minor": 0,
  "metadata": {
    "colab": {
      "provenance": []
    },
    "kernelspec": {
      "name": "python3",
      "display_name": "Python 3"
    },
    "language_info": {
      "name": "python"
    }
  },
  "cells": [
    {
      "cell_type": "markdown",
      "source": [
        "#**Equipo 7**\n",
        "**Integrantes**\n",
        "- Camacho Herrera Jesús Salvador\n",
        "- Flores Solis Eduardo Elías\n",
        "- Garcia Robles Viviana\n",
        "- Mendoza López Luis Ángel"
      ],
      "metadata": {
        "id": "jV28xKXPqj6y"
      }
    }
  ]
}